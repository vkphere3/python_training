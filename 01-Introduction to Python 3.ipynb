{
 "cells": [
  {
   "cell_type": "markdown",
   "metadata": {},
   "source": [
    "### Python:\n",
    "    \n",
    "    Why Python?\n",
    "\n",
    "    1. Readable and Maintainable Code\n",
    "    2. Indented syntax\n",
    "    3. Fastest growing programming language\n",
    "    4. Python Has a very Active and Supportive Community\n",
    "    5. Python Has Amazing Libraries\n",
    "    6. Great language to study data science"
   ]
  },
  {
   "cell_type": "markdown",
   "metadata": {},
   "source": [
    "### What changed from Python 2 to Python 3\n",
    "    \n",
    "    1. The print function:\n",
    "        Python 2:\n",
    "            print \"Hello\"\n",
    "            print(\"Hello\") #Even a bracket won't throw any error\n",
    "            \n",
    "        Python 3:\n",
    "            print(\"Hello\") #Here Bracket is must\n",
    "            \n",
    "    2. Integer division\n",
    "        Python 2:\n",
    "            print 3 / 2\n",
    "                1\n",
    "            print 3 // 2\n",
    "                1\n",
    "                \n",
    "        Python 3:\n",
    "            print(3/2)\n",
    "                1.5\n",
    "            print(3//2) #returns quotient\n",
    "                1\n",
    "    \n",
    "    \n",
    "There are many more differences which we will discuss as the course proceeds.\n",
    "To read more about them, Visit the below link:    \n",
    "http://sebastianraschka.com/Articles/2014_python_2_3_key_diff.html\n",
    "    "
   ]
  },
  {
   "cell_type": "markdown",
   "metadata": {},
   "source": [
    "### Software Installations\n",
    "\n",
    "1. Anaconda/Miniconda Installation:\n",
    "    Download Anaconda from https://www.continuum.io/downloads\n",
    "        \n",
    "2. Install Jupyter Notebook:\n",
    "    pip install jupyter notebook\n",
    "    \n",
    "\n",
    "To start Jupyter Notebook:\n",
    "    1. Go to anaconda prompt\n",
    "    2. Type \"jupyter notebook\"\n",
    "    3. A new tab will open in the web browser showing the file structure.\n",
    "        Navigate to the (required) folder and create a new Python 3 Notebook\n",
    "        \n",
    "To learn more about Jupyter Notebook, Visit the below link:\n",
    "https://jupyter.readthedocs.io/en/latest/"
   ]
  }
 ],
 "metadata": {
  "kernelspec": {
   "display_name": "Python 3",
   "language": "python",
   "name": "python3"
  },
  "language_info": {
   "codemirror_mode": {
    "name": "ipython",
    "version": 3
   },
   "file_extension": ".py",
   "mimetype": "text/x-python",
   "name": "python",
   "nbconvert_exporter": "python",
   "pygments_lexer": "ipython3",
   "version": "3.7.1"
  }
 },
 "nbformat": 4,
 "nbformat_minor": 2
}
