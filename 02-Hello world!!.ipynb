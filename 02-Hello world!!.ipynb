{
 "cells": [
  {
   "cell_type": "markdown",
   "metadata": {},
   "source": [
    "### Say Hello\n",
    "\n",
    "1. On Interactive Shell\n",
    "    (To open python interactive shell, Type python in the search bar and click enter)\n",
    "\n",
    "    Print Hell world!!\n",
    "    >>> print(\"Hello World!!\")\n",
    "    Hello World!!\n",
    "    \n",
    "    The shell can be used for running various python commands as well\n",
    "\n",
    "2. Running a Script/Executable File\n",
    "    Here the file which contains python code is called as the script file.\n",
    "    \n",
    "    a. Open a new text file in notepad\n",
    "    b. Type the following\n",
    "        print(\"Hello World\")\n",
    "    c. Save the file with .py extension\n",
    "    d. Open command prompt / terminal in the folder containing the py file.\n",
    "        (In windows, navigate to the folder in which the file is present . Press shift and right click simultaneosly and\n",
    "        then open powershell window here)\n",
    "    e. Type the below code to run the script file\n",
    "        python fileName.py\n",
    "    f. The output of the script will be printed on the terminal\n",
    "    \n",
    "3. On Jupyter Notebook (simplest one)\n",
    "    a. Open a python 3 notebook\n",
    "    b. type print(\"Hello World\")\n",
    "    c. Hit run at the top menu\n",
    "    d. The output is displayed below the very same cell"
   ]
  },
  {
   "cell_type": "code",
   "execution_count": 1,
   "metadata": {},
   "outputs": [
    {
     "name": "stdout",
     "output_type": "stream",
     "text": [
      "Hello\n"
     ]
    }
   ],
   "source": [
    "print(\"Hello\")\n"
   ]
  },
  {
   "cell_type": "code",
   "execution_count": null,
   "metadata": {},
   "outputs": [],
   "source": []
  }
 ],
 "metadata": {
  "kernelspec": {
   "display_name": "Python 3",
   "language": "python",
   "name": "python3"
  },
  "language_info": {
   "codemirror_mode": {
    "name": "ipython",
    "version": 3
   },
   "file_extension": ".py",
   "mimetype": "text/x-python",
   "name": "python",
   "nbconvert_exporter": "python",
   "pygments_lexer": "ipython3",
   "version": "3.7.1"
  }
 },
 "nbformat": 4,
 "nbformat_minor": 2
}
